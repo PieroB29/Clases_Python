{
  "nbformat": 4,
  "nbformat_minor": 0,
  "metadata": {
    "colab": {
      "name": "Cambio_a_dolares.py",
      "provenance": [],
      "collapsed_sections": [],
      "authorship_tag": "ABX9TyMFCF3MPezopgB4fOqLE40p",
      "include_colab_link": true
    },
    "kernelspec": {
      "name": "python3",
      "display_name": "Python 3"
    },
    "language_info": {
      "name": "python"
    }
  },
  "cells": [
    {
      "cell_type": "markdown",
      "metadata": {
        "id": "view-in-github",
        "colab_type": "text"
      },
      "source": [
        "<a href=\"https://colab.research.google.com/github/PieroB29/Clases_Python/blob/main/Cambio_a_dolares_py.ipynb\" target=\"_parent\"><img src=\"https://colab.research.google.com/assets/colab-badge.svg\" alt=\"Open In Colab\"/></a>"
      ]
    },
    {
      "cell_type": "code",
      "metadata": {
        "colab": {
          "base_uri": "https://localhost:8080/"
        },
        "id": "tQBsZ1xGlPlk",
        "outputId": "d1aaef28-e7b9-4c99-b672-87542f66b3f6"
      },
      "source": [
        "menu = \"\"\" \n",
        "Bienvenido al conversor de monedas :D\n",
        "\n",
        "1-- Pesos colombianos\n",
        "2-- Pesos argentinos\n",
        "3-- Pesos mexicanos\n",
        "\n",
        "Elige una opcion: \"\"\"\n",
        "\n",
        "opcion = input(menu)\n",
        "\n",
        "if opcion == \"1\":\n",
        "    pesos = input(\"¿Cuantos pesos colombianos tienes?\")\n",
        "    pesos = float(pesos)\n",
        "    valor_dolar = 3875\n",
        "    dolares = pesos / valor_dolar\n",
        "    dolares = round(dolares,  2)\n",
        "    dolares = str(dolares)\n",
        "    print(\"Tienes $\" + dolares + \" dolares\")\n",
        "\n",
        "elif opcion == \"2\":\n",
        "    pesos = input(\"¿Cuantos pesos argentinos tienes?\")\n",
        "    pesos = float(pesos)\n",
        "    valor_dolar = 65\n",
        "    dolares = pesos / valor_dolar\n",
        "    dolares = round(dolares,  2)\n",
        "    dolares = str(dolares)\n",
        "    print(\"Tienes $\" + dolares + \" dolares\")\n",
        "\n",
        "elif opcion == \"3\":\n",
        "    pesos = input(\"¿Cuantos pesos mexicanos tienes?\")\n",
        "    pesos = float(pesos)\n",
        "    valor_dolar = 24\n",
        "    dolares = pesos / valor_dolar\n",
        "    dolares = round(dolares,  2)\n",
        "    dolares = str(dolares)\n",
        "    print(\"Tienes $\" + dolares + \" dolares\")\n",
        "\n",
        "else:\n",
        "    print(\"Ingresa una opcion correcta\")\n",
        "    opcion = input(menu)\n"
      ],
      "execution_count": null,
      "outputs": [
        {
          "output_type": "stream",
          "text": [
            " \n",
            "Bienvenido al conversor de monedas :D\n",
            "\n",
            "1-- Pesos colombianos\n",
            "2-- Pesos argentinos\n",
            "3-- Pesos mexicanos\n",
            "\n",
            "Elige una opcion: 34\n",
            "Ingresa una opcion correcta\n",
            " \n",
            "Bienvenido al conversor de monedas :D\n",
            "\n",
            "1-- Pesos colombianos\n",
            "2-- Pesos argentinos\n",
            "3-- Pesos mexicanos\n",
            "\n",
            "Elige una opcion: 5\n"
          ],
          "name": "stdout"
        }
      ]
    },
    {
      "cell_type": "code",
      "metadata": {
        "id": "l3OXJ2NblU6_"
      },
      "source": [
        ""
      ],
      "execution_count": null,
      "outputs": []
    }
  ]
}