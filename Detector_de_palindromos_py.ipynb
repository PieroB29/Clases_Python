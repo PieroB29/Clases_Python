{
  "nbformat": 4,
  "nbformat_minor": 0,
  "metadata": {
    "colab": {
      "name": "Detector_de_palindromos.py",
      "provenance": [],
      "collapsed_sections": [],
      "authorship_tag": "ABX9TyP2LA9yWrt4X3ADnHwQCMFZ",
      "include_colab_link": true
    },
    "kernelspec": {
      "name": "python3",
      "display_name": "Python 3"
    },
    "language_info": {
      "name": "python"
    }
  },
  "cells": [
    {
      "cell_type": "markdown",
      "metadata": {
        "id": "view-in-github",
        "colab_type": "text"
      },
      "source": [
        "<a href=\"https://colab.research.google.com/github/PieroB29/Clases_Python/blob/main/Detector_de_palindromos_py.ipynb\" target=\"_parent\"><img src=\"https://colab.research.google.com/assets/colab-badge.svg\" alt=\"Open In Colab\"/></a>"
      ]
    },
    {
      "cell_type": "code",
      "metadata": {
        "id": "n7ZUinJnlqjW"
      },
      "source": [
        "def palindromo(palabra):\n",
        "    palabra = palabra.replace(\" \", \"\")\n",
        "    palabra = palabra.lower()\n",
        "    palabra_invertida = palabra [ :: -1]\n",
        "    if palabra == palabra_invertida:\n",
        "        return True\n",
        "    else:\n",
        "        return False"
      ],
      "execution_count": null,
      "outputs": []
    },
    {
      "cell_type": "code",
      "metadata": {
        "id": "dW2OyCotltXo"
      },
      "source": [
        "def run():\n",
        "    palabra = input(\"Escribe una palabra: \")\n",
        "    es_palindromo = palindromo(palabra)\n",
        "\n",
        "    if es_palindromo == True:\n",
        "        print(\"Es un palindromo\")\n",
        "    else:\n",
        "        print(\"No es un palindromo\")"
      ],
      "execution_count": null,
      "outputs": []
    },
    {
      "cell_type": "code",
      "metadata": {
        "colab": {
          "base_uri": "https://localhost:8080/"
        },
        "id": "riNjhTI_lu9X",
        "outputId": "89b4cf2c-9be6-4d83-dae4-f202b5ca6869"
      },
      "source": [
        "if __name__ == \"__main__\":\n",
        "    run()"
      ],
      "execution_count": null,
      "outputs": [
        {
          "output_type": "stream",
          "text": [
            "Escribe una palabra: wo w\n",
            "Es un palindromo\n"
          ],
          "name": "stdout"
        }
      ]
    },
    {
      "cell_type": "code",
      "metadata": {
        "id": "1uUgX5IQlwtv"
      },
      "source": [
        ""
      ],
      "execution_count": null,
      "outputs": []
    }
  ]
}