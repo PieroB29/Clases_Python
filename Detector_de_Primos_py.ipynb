{
  "nbformat": 4,
  "nbformat_minor": 0,
  "metadata": {
    "colab": {
      "name": "Detector_de_Primos.py",
      "provenance": [],
      "collapsed_sections": [],
      "authorship_tag": "ABX9TyPnRPe7dS5yibQqDTmQD3pF",
      "include_colab_link": true
    },
    "kernelspec": {
      "name": "python3",
      "display_name": "Python 3"
    },
    "language_info": {
      "name": "python"
    }
  },
  "cells": [
    {
      "cell_type": "markdown",
      "metadata": {
        "id": "view-in-github",
        "colab_type": "text"
      },
      "source": [
        "<a href=\"https://colab.research.google.com/github/PieroB29/Clases_Python/blob/main/Detector_de_Primos_py.ipynb\" target=\"_parent\"><img src=\"https://colab.research.google.com/assets/colab-badge.svg\" alt=\"Open In Colab\"/></a>"
      ]
    },
    {
      "cell_type": "code",
      "metadata": {
        "id": "-EZyeyyMjf-N"
      },
      "source": [
        "def es_primo(numero):\n",
        "    contador = 0\n",
        "    for i in range(1,1+numero):\n",
        "        if i == 1 or i == numero:\n",
        "            continue\n",
        "        if numero % i == 0:\n",
        "            contador += 1\n",
        "    if contador == 0:\n",
        "        return True\n",
        "    else:\n",
        "        return False"
      ],
      "execution_count": null,
      "outputs": []
    },
    {
      "cell_type": "code",
      "metadata": {
        "id": "sYV1wbxYjhV2"
      },
      "source": [
        "def run():\n",
        "    numero = int(input(\"Escribe un numero: \"))\n",
        "    if es_primo(numero):\n",
        "        print(\"Es primo\")\n",
        "    else:\n",
        "        print(\"No es primo\")"
      ],
      "execution_count": null,
      "outputs": []
    },
    {
      "cell_type": "code",
      "metadata": {
        "colab": {
          "base_uri": "https://localhost:8080/"
        },
        "id": "YxbyPeOjjjSf",
        "outputId": "9f93903c-108d-4991-995b-21f2ef539270"
      },
      "source": [
        "if __name__ == \"__main__\":\n",
        "    run()"
      ],
      "execution_count": null,
      "outputs": [
        {
          "output_type": "stream",
          "text": [
            "Escribe un numero: 15\n",
            "No es primo\n"
          ],
          "name": "stdout"
        }
      ]
    },
    {
      "cell_type": "code",
      "metadata": {
        "id": "bdijT-i9jke2"
      },
      "source": [
        ""
      ],
      "execution_count": null,
      "outputs": []
    }
  ]
}