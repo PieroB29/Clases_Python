{
  "nbformat": 4,
  "nbformat_minor": 0,
  "metadata": {
    "colab": {
      "name": "Limites.py",
      "provenance": [],
      "collapsed_sections": [],
      "authorship_tag": "ABX9TyMmNv89kvCtdYsxLhMGkoSM",
      "include_colab_link": true
    },
    "kernelspec": {
      "name": "python3",
      "display_name": "Python 3"
    },
    "language_info": {
      "name": "python"
    }
  },
  "cells": [
    {
      "cell_type": "markdown",
      "metadata": {
        "id": "view-in-github",
        "colab_type": "text"
      },
      "source": [
        "<a href=\"https://colab.research.google.com/github/PieroB29/Clases_Python/blob/main/Limites_py.ipynb\" target=\"_parent\"><img src=\"https://colab.research.google.com/assets/colab-badge.svg\" alt=\"Open In Colab\"/></a>"
      ]
    },
    {
      "cell_type": "code",
      "metadata": {
        "id": "MC6rZcAdm8xP"
      },
      "source": [
        "def run():\n",
        "    LIMITE = 1000000\n",
        "    contador = 0\n",
        "    potencia_2 = 2**contador\n",
        "    while potencia_2 < LIMITE:\n",
        "        print(\"2 elevado a \" + str(contador) + \" es igual a \" + str(potencia_2))\n",
        "        contador = contador + 1 \n",
        "        potencia_2 = 2**contador"
      ],
      "execution_count": null,
      "outputs": []
    },
    {
      "cell_type": "code",
      "metadata": {
        "colab": {
          "base_uri": "https://localhost:8080/"
        },
        "id": "l5C77t5gm-sQ",
        "outputId": "c9fbc636-dfb8-41ca-9bfe-0f063d9773ad"
      },
      "source": [
        "if __name__ == \"__main__\":\n",
        "    run()"
      ],
      "execution_count": null,
      "outputs": [
        {
          "output_type": "stream",
          "text": [
            "2 elevado a 0 es igual a 1\n",
            "2 elevado a 1 es igual a 2\n",
            "2 elevado a 2 es igual a 4\n",
            "2 elevado a 3 es igual a 8\n",
            "2 elevado a 4 es igual a 16\n",
            "2 elevado a 5 es igual a 32\n",
            "2 elevado a 6 es igual a 64\n",
            "2 elevado a 7 es igual a 128\n",
            "2 elevado a 8 es igual a 256\n",
            "2 elevado a 9 es igual a 512\n",
            "2 elevado a 10 es igual a 1024\n",
            "2 elevado a 11 es igual a 2048\n",
            "2 elevado a 12 es igual a 4096\n",
            "2 elevado a 13 es igual a 8192\n",
            "2 elevado a 14 es igual a 16384\n",
            "2 elevado a 15 es igual a 32768\n",
            "2 elevado a 16 es igual a 65536\n",
            "2 elevado a 17 es igual a 131072\n",
            "2 elevado a 18 es igual a 262144\n",
            "2 elevado a 19 es igual a 524288\n"
          ],
          "name": "stdout"
        }
      ]
    },
    {
      "cell_type": "code",
      "metadata": {
        "id": "dLHugjxXnBA2"
      },
      "source": [
        ""
      ],
      "execution_count": null,
      "outputs": []
    }
  ]
}