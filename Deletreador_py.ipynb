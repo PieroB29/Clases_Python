{
  "nbformat": 4,
  "nbformat_minor": 0,
  "metadata": {
    "colab": {
      "name": "Deletreador.py",
      "provenance": [],
      "collapsed_sections": [],
      "authorship_tag": "ABX9TyM7B4FVRVPozLfSNLSXaxV7",
      "include_colab_link": true
    },
    "kernelspec": {
      "name": "python3",
      "display_name": "Python 3"
    },
    "language_info": {
      "name": "python"
    }
  },
  "cells": [
    {
      "cell_type": "markdown",
      "metadata": {
        "id": "view-in-github",
        "colab_type": "text"
      },
      "source": [
        "<a href=\"https://colab.research.google.com/github/PieroB29/Clases_Python/blob/main/Deletreador_py.ipynb\" target=\"_parent\"><img src=\"https://colab.research.google.com/assets/colab-badge.svg\" alt=\"Open In Colab\"/></a>"
      ]
    },
    {
      "cell_type": "code",
      "metadata": {
        "id": "2AMi-AQ72wa2"
      },
      "source": [
        "def run():\n",
        "    nombre = input(\"Escribe tu nombre: \")\n",
        "    for letra in nombre:\n",
        "        print(letra)\n",
        "    #frase = input(\"Escribe una frase: \")\n",
        "    #for caracter in frase:\n",
        "       # print(caracter.upper())"
      ],
      "execution_count": null,
      "outputs": []
    },
    {
      "cell_type": "code",
      "metadata": {
        "colab": {
          "base_uri": "https://localhost:8080/"
        },
        "id": "HYhA7TFI2yyo",
        "outputId": "8431ca62-5331-4e01-f54d-07837ff28c4d"
      },
      "source": [
        "if __name__ == \"__main__\":\n",
        "    run()   "
      ],
      "execution_count": null,
      "outputs": [
        {
          "output_type": "stream",
          "text": [
            "Escribe una frase: S1343\n",
            "S\n",
            "1\n",
            "3\n",
            "4\n",
            "3\n"
          ],
          "name": "stdout"
        }
      ]
    }
  ]
}