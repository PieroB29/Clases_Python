{
  "nbformat": 4,
  "nbformat_minor": 0,
  "metadata": {
    "colab": {
      "name": "Prueba_de_funciones.py",
      "provenance": [],
      "collapsed_sections": [],
      "authorship_tag": "ABX9TyO6i6UNSYZw/qKMG1Zuset+",
      "include_colab_link": true
    },
    "kernelspec": {
      "name": "python3",
      "display_name": "Python 3"
    },
    "language_info": {
      "name": "python"
    }
  },
  "cells": [
    {
      "cell_type": "markdown",
      "metadata": {
        "id": "view-in-github",
        "colab_type": "text"
      },
      "source": [
        "<a href=\"https://colab.research.google.com/github/PieroB29/Clases_Python/blob/main/Prueba_de_funciones_py.ipynb\" target=\"_parent\"><img src=\"https://colab.research.google.com/assets/colab-badge.svg\" alt=\"Open In Colab\"/></a>"
      ]
    },
    {
      "cell_type": "code",
      "metadata": {
        "id": "lwDpKyfBnvz5"
      },
      "source": [
        "def imprimir_mensaje():\n",
        "    print(\"Mensaje especial: \")\n",
        "    print(\"Estoy aprendiendo a usar funciones\")"
      ],
      "execution_count": null,
      "outputs": []
    },
    {
      "cell_type": "code",
      "metadata": {
        "colab": {
          "base_uri": "https://localhost:8080/"
        },
        "id": "1dGndM48nxjJ",
        "outputId": "f6598065-7a3d-4738-8b3a-30b43ee79741"
      },
      "source": [
        "imprimir_mensaje()"
      ],
      "execution_count": null,
      "outputs": [
        {
          "output_type": "stream",
          "text": [
            "Mensaje especial: \n",
            "Estoy aprendiendo a usar funciones\n"
          ],
          "name": "stdout"
        }
      ]
    },
    {
      "cell_type": "code",
      "metadata": {
        "id": "BB3IH_05nznQ"
      },
      "source": [
        "def conversacion(mensaje):\n",
        "    print(\"Hola\")\n",
        "    print(\"Como estas?\")\n",
        "    print(mensaje)\n",
        "    print(\"Adios\")"
      ],
      "execution_count": null,
      "outputs": []
    },
    {
      "cell_type": "code",
      "metadata": {
        "colab": {
          "base_uri": "https://localhost:8080/"
        },
        "id": "cA0A0NcVn8tf",
        "outputId": "95b9732a-ddb3-4807-efc0-366a8cff372c"
      },
      "source": [
        "opcion = input(\"Elige una opcion (1, 2 o 3): \")\n",
        "if opcion == \"1\":\n",
        "    conversacion(\"Elegiste la opción 1\")\n",
        "elif opcion == \"2\":\n",
        "    conversacion(\"Elegiste la opción 2\")\n",
        "elif opcion == \"3\":\n",
        "    conversacion(\"Elegiste la opción 3\")\n",
        "else:\n",
        "    print(\"Inserta una opcion correcta\")"
      ],
      "execution_count": null,
      "outputs": [
        {
          "output_type": "stream",
          "text": [
            "Elige una opcion (1, 2 o 3): 3\n",
            "Hola\n",
            "Como estas?\n",
            "Elegiste la opción 3\n",
            "Adios\n"
          ],
          "name": "stdout"
        }
      ]
    },
    {
      "cell_type": "code",
      "metadata": {
        "id": "4NWnRT1Tn-KP"
      },
      "source": [
        ""
      ],
      "execution_count": null,
      "outputs": []
    }
  ]
}