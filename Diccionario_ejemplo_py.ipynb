{
  "nbformat": 4,
  "nbformat_minor": 0,
  "metadata": {
    "colab": {
      "name": "Diccionario_ejemplo.py",
      "provenance": [],
      "collapsed_sections": [],
      "authorship_tag": "ABX9TyOSeYkcIl+st0XQfC5yE6ui",
      "include_colab_link": true
    },
    "kernelspec": {
      "name": "python3",
      "display_name": "Python 3"
    },
    "language_info": {
      "name": "python"
    }
  },
  "cells": [
    {
      "cell_type": "markdown",
      "metadata": {
        "id": "view-in-github",
        "colab_type": "text"
      },
      "source": [
        "<a href=\"https://colab.research.google.com/github/PieroB29/Clases_Python/blob/main/Diccionario_ejemplo_py.ipynb\" target=\"_parent\"><img src=\"https://colab.research.google.com/assets/colab-badge.svg\" alt=\"Open In Colab\"/></a>"
      ]
    },
    {
      "cell_type": "code",
      "metadata": {
        "id": "B1Ipp0r9ndby"
      },
      "source": [
        "def run():\n",
        "    mi_diccionario = {\n",
        "        \"llave 1\" : 1,\n",
        "        \"llave 2\" : 2,\n",
        "        \"llave 3\" : 3,\n",
        "\n",
        "    }\n",
        "    print(mi_diccionario[\"llave 1\"])\n",
        "    print(mi_diccionario[\"llave 2\"])\n",
        "    print(mi_diccionario[\"llave 3\"])\n",
        "\n",
        "    poblacion_paises = {\n",
        "        'Argentina': 44938712,\n",
        "        'Brasil': 210147125,\n",
        "        'Colombia': 50372424\n",
        "    }\n",
        "    for pais, poblacion in poblacion_paises.items():\n",
        "        print(f'pais tiene {poblacion} habitantes')"
      ],
      "execution_count": 1,
      "outputs": []
    },
    {
      "cell_type": "code",
      "metadata": {
        "colab": {
          "base_uri": "https://localhost:8080/"
        },
        "id": "GFRqOcQ3nfI4",
        "outputId": "2290e082-1698-423d-dee5-61917cde866c"
      },
      "source": [
        "if __name__ == \"__main__\":\n",
        "    run()"
      ],
      "execution_count": 2,
      "outputs": [
        {
          "output_type": "stream",
          "text": [
            "1\n",
            "2\n",
            "3\n",
            "pais tiene 44938712 habitantes\n",
            "pais tiene 210147125 habitantes\n",
            "pais tiene 50372424 habitantes\n"
          ],
          "name": "stdout"
        }
      ]
    },
    {
      "cell_type": "code",
      "metadata": {
        "id": "y6gXO2IVngbP"
      },
      "source": [
        ""
      ],
      "execution_count": null,
      "outputs": []
    }
  ]
}