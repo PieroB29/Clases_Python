{
  "nbformat": 4,
  "nbformat_minor": 0,
  "metadata": {
    "colab": {
      "name": "Adivina_el_numero.py",
      "provenance": [],
      "collapsed_sections": [],
      "authorship_tag": "ABX9TyNHfBXpxHt2AkE8FsLYubhP",
      "include_colab_link": true
    },
    "kernelspec": {
      "name": "python3",
      "display_name": "Python 3"
    },
    "language_info": {
      "name": "python"
    }
  },
  "cells": [
    {
      "cell_type": "markdown",
      "metadata": {
        "id": "view-in-github",
        "colab_type": "text"
      },
      "source": [
        "<a href=\"https://colab.research.google.com/github/PieroB29/Clases_Python/blob/main/Adivina_el_numero_py.ipynb\" target=\"_parent\"><img src=\"https://colab.research.google.com/assets/colab-badge.svg\" alt=\"Open In Colab\"/></a>"
      ]
    },
    {
      "cell_type": "code",
      "metadata": {
        "id": "gHzraS7lmOTX"
      },
      "source": [
        "import random"
      ],
      "execution_count": null,
      "outputs": []
    },
    {
      "cell_type": "code",
      "metadata": {
        "id": "esJgzIH1mQGY"
      },
      "source": [
        "def run():\n",
        "    numero_aleatorio = random.randint(1, 100)\n",
        "    numero_elegido = int(input(\"Elige un numero del 1 al 100 \"))\n",
        "    while numero_elegido != numero_aleatorio:\n",
        "        if numero_elegido < numero_aleatorio:\n",
        "            print(\"Elige un numero mas grande\")\n",
        "\n",
        "        else:\n",
        "            print(\"Elige un numero mas pequeño\")\n",
        "\n",
        "        numero_aleatorio = int(input(\"Elige otro numero: \"))\n",
        "    print(\"Ganaste !!!\")"
      ],
      "execution_count": null,
      "outputs": []
    },
    {
      "cell_type": "code",
      "metadata": {
        "id": "96iHziFwmReH"
      },
      "source": [
        "if __name__ == \"__main__\":\n",
        "    run()"
      ],
      "execution_count": null,
      "outputs": []
    }
  ]
}