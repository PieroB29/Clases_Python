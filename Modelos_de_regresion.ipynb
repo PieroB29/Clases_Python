{
  "nbformat": 4,
  "nbformat_minor": 0,
  "metadata": {
    "colab": {
      "name": "Modelos_de_regresion.ipynb",
      "provenance": [],
      "authorship_tag": "ABX9TyNR98HR+irp6qeCGC94tLWX",
      "include_colab_link": true
    },
    "kernelspec": {
      "name": "python3",
      "display_name": "Python 3"
    },
    "language_info": {
      "name": "python"
    }
  },
  "cells": [
    {
      "cell_type": "markdown",
      "metadata": {
        "id": "view-in-github",
        "colab_type": "text"
      },
      "source": [
        "<a href=\"https://colab.research.google.com/github/PieroB29/Clases_Python/blob/main/Modelos_de_regresion.ipynb\" target=\"_parent\"><img src=\"https://colab.research.google.com/assets/colab-badge.svg\" alt=\"Open In Colab\"/></a>"
      ]
    },
    {
      "cell_type": "code",
      "metadata": {
        "colab": {
          "resources": {
            "http://localhost:8080/nbextensions/google.colab/files.js": {
              "data": "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",
              "ok": true,
              "headers": [
                [
                  "content-type",
                  "application/javascript"
                ]
              ],
              "status": 200,
              "status_text": ""
            }
          },
          "base_uri": "https://localhost:8080/",
          "height": 106
        },
        "id": "JdHBeM44ojTD",
        "outputId": "a93f721f-bf51-424a-8c10-0c027a810d88"
      },
      "source": [
        "from google.colab import files\n",
        "uploaded = files.upload()"
      ],
      "execution_count": null,
      "outputs": [
        {
          "output_type": "display_data",
          "data": {
            "text/html": [
              "\n",
              "     <input type=\"file\" id=\"files-cd05e04c-7347-4065-8391-6a5f5b99db2b\" name=\"files[]\" multiple disabled\n",
              "        style=\"border:none\" />\n",
              "     <output id=\"result-cd05e04c-7347-4065-8391-6a5f5b99db2b\">\n",
              "      Upload widget is only available when the cell has been executed in the\n",
              "      current browser session. Please rerun this cell to enable.\n",
              "      </output>\n",
              "      <script src=\"/nbextensions/google.colab/files.js\"></script> "
            ],
            "text/plain": [
              "<IPython.core.display.HTML object>"
            ]
          },
          "metadata": {
            "tags": []
          }
        },
        {
          "output_type": "stream",
          "text": [
            "Saving housing_test.csv to housing_test.csv\n",
            "Saving housing_train.csv to housing_train.csv\n"
          ],
          "name": "stdout"
        }
      ]
    },
    {
      "cell_type": "code",
      "metadata": {
        "id": "aUJJ5FVvorfc"
      },
      "source": [
        "import numpy as np\n",
        "import pandas as pd\n",
        "from sklearn.linear_model import LinearRegression\n",
        "import matplotlib.pyplot as plt\n",
        "import seaborn as sns"
      ],
      "execution_count": null,
      "outputs": []
    },
    {
      "cell_type": "code",
      "metadata": {
        "id": "c8ZSBEWPovfy"
      },
      "source": [
        "from sklearn.ensemble import RandomForestRegressor\n",
        "from sklearn.metrics import mean_squared_error, mean_absolute_error"
      ],
      "execution_count": null,
      "outputs": []
    },
    {
      "cell_type": "code",
      "metadata": {
        "id": "awk7Xdfrp5cr"
      },
      "source": [
        "def mean_absolute_percentage_error(y_true, y_pred): \n",
        "    y_true, y_pred = np.array(y_true), np.array(y_pred)\n",
        "    return np.mean(np.abs((y_true - y_pred) / y_true))"
      ],
      "execution_count": null,
      "outputs": []
    },
    {
      "cell_type": "code",
      "metadata": {
        "colab": {
          "base_uri": "https://localhost:8080/",
          "height": 439
        },
        "id": "PBn3nQhnt1Gr",
        "outputId": "74ee21b7-5533-4774-de6a-2a58b8058198"
      },
      "source": [
        "df_train = pd.read_csv('housing_train.csv')\n",
        "df_test = pd.read_csv('housing_test.csv')\n",
        "df_train"
      ],
      "execution_count": null,
      "outputs": [
        {
          "output_type": "execute_result",
          "data": {
            "text/html": [
              "<div>\n",
              "<style scoped>\n",
              "    .dataframe tbody tr th:only-of-type {\n",
              "        vertical-align: middle;\n",
              "    }\n",
              "\n",
              "    .dataframe tbody tr th {\n",
              "        vertical-align: top;\n",
              "    }\n",
              "\n",
              "    .dataframe thead th {\n",
              "        text-align: right;\n",
              "    }\n",
              "</style>\n",
              "<table border=\"1\" class=\"dataframe\">\n",
              "  <thead>\n",
              "    <tr style=\"text-align: right;\">\n",
              "      <th></th>\n",
              "      <th>tasa_crimen</th>\n",
              "      <th>lz</th>\n",
              "      <th>industrial</th>\n",
              "      <th>rio</th>\n",
              "      <th>nox</th>\n",
              "      <th>cuartos</th>\n",
              "      <th>edad</th>\n",
              "      <th>distancia</th>\n",
              "      <th>autopistas</th>\n",
              "      <th>impuestos</th>\n",
              "      <th>profesores</th>\n",
              "      <th>status</th>\n",
              "      <th>valor</th>\n",
              "    </tr>\n",
              "  </thead>\n",
              "  <tbody>\n",
              "    <tr>\n",
              "      <th>0</th>\n",
              "      <td>0.01096</td>\n",
              "      <td>55.0</td>\n",
              "      <td>2.25</td>\n",
              "      <td>0</td>\n",
              "      <td>0.389</td>\n",
              "      <td>6.453</td>\n",
              "      <td>31.9</td>\n",
              "      <td>7.3073</td>\n",
              "      <td>1</td>\n",
              "      <td>300</td>\n",
              "      <td>15.3</td>\n",
              "      <td>8.23</td>\n",
              "      <td>22.0</td>\n",
              "    </tr>\n",
              "    <tr>\n",
              "      <th>1</th>\n",
              "      <td>0.54050</td>\n",
              "      <td>20.0</td>\n",
              "      <td>3.97</td>\n",
              "      <td>0</td>\n",
              "      <td>0.575</td>\n",
              "      <td>7.470</td>\n",
              "      <td>52.6</td>\n",
              "      <td>2.8720</td>\n",
              "      <td>5</td>\n",
              "      <td>264</td>\n",
              "      <td>13.0</td>\n",
              "      <td>3.16</td>\n",
              "      <td>43.5</td>\n",
              "    </tr>\n",
              "    <tr>\n",
              "      <th>2</th>\n",
              "      <td>0.21409</td>\n",
              "      <td>22.0</td>\n",
              "      <td>5.86</td>\n",
              "      <td>0</td>\n",
              "      <td>0.431</td>\n",
              "      <td>6.438</td>\n",
              "      <td>8.9</td>\n",
              "      <td>7.3967</td>\n",
              "      <td>7</td>\n",
              "      <td>330</td>\n",
              "      <td>19.1</td>\n",
              "      <td>3.59</td>\n",
              "      <td>24.8</td>\n",
              "    </tr>\n",
              "    <tr>\n",
              "      <th>3</th>\n",
              "      <td>0.31827</td>\n",
              "      <td>0.0</td>\n",
              "      <td>9.90</td>\n",
              "      <td>0</td>\n",
              "      <td>0.544</td>\n",
              "      <td>5.914</td>\n",
              "      <td>83.2</td>\n",
              "      <td>3.9986</td>\n",
              "      <td>4</td>\n",
              "      <td>304</td>\n",
              "      <td>18.4</td>\n",
              "      <td>18.33</td>\n",
              "      <td>17.8</td>\n",
              "    </tr>\n",
              "    <tr>\n",
              "      <th>4</th>\n",
              "      <td>0.02055</td>\n",
              "      <td>85.0</td>\n",
              "      <td>0.74</td>\n",
              "      <td>0</td>\n",
              "      <td>0.410</td>\n",
              "      <td>6.383</td>\n",
              "      <td>35.7</td>\n",
              "      <td>9.1876</td>\n",
              "      <td>2</td>\n",
              "      <td>313</td>\n",
              "      <td>17.3</td>\n",
              "      <td>5.77</td>\n",
              "      <td>24.7</td>\n",
              "    </tr>\n",
              "    <tr>\n",
              "      <th>...</th>\n",
              "      <td>...</td>\n",
              "      <td>...</td>\n",
              "      <td>...</td>\n",
              "      <td>...</td>\n",
              "      <td>...</td>\n",
              "      <td>...</td>\n",
              "      <td>...</td>\n",
              "      <td>...</td>\n",
              "      <td>...</td>\n",
              "      <td>...</td>\n",
              "      <td>...</td>\n",
              "      <td>...</td>\n",
              "      <td>...</td>\n",
              "    </tr>\n",
              "    <tr>\n",
              "      <th>400</th>\n",
              "      <td>0.07896</td>\n",
              "      <td>0.0</td>\n",
              "      <td>12.83</td>\n",
              "      <td>0</td>\n",
              "      <td>0.437</td>\n",
              "      <td>6.273</td>\n",
              "      <td>6.0</td>\n",
              "      <td>4.2515</td>\n",
              "      <td>5</td>\n",
              "      <td>398</td>\n",
              "      <td>18.7</td>\n",
              "      <td>6.78</td>\n",
              "      <td>24.1</td>\n",
              "    </tr>\n",
              "    <tr>\n",
              "      <th>401</th>\n",
              "      <td>0.09378</td>\n",
              "      <td>12.5</td>\n",
              "      <td>7.87</td>\n",
              "      <td>0</td>\n",
              "      <td>0.524</td>\n",
              "      <td>5.889</td>\n",
              "      <td>39.0</td>\n",
              "      <td>5.4509</td>\n",
              "      <td>5</td>\n",
              "      <td>311</td>\n",
              "      <td>15.2</td>\n",
              "      <td>15.71</td>\n",
              "      <td>21.7</td>\n",
              "    </tr>\n",
              "    <tr>\n",
              "      <th>402</th>\n",
              "      <td>0.25199</td>\n",
              "      <td>0.0</td>\n",
              "      <td>10.59</td>\n",
              "      <td>0</td>\n",
              "      <td>0.489</td>\n",
              "      <td>5.783</td>\n",
              "      <td>72.7</td>\n",
              "      <td>4.3549</td>\n",
              "      <td>4</td>\n",
              "      <td>277</td>\n",
              "      <td>18.6</td>\n",
              "      <td>18.06</td>\n",
              "      <td>22.5</td>\n",
              "    </tr>\n",
              "    <tr>\n",
              "      <th>403</th>\n",
              "      <td>0.14866</td>\n",
              "      <td>0.0</td>\n",
              "      <td>8.56</td>\n",
              "      <td>0</td>\n",
              "      <td>0.520</td>\n",
              "      <td>6.727</td>\n",
              "      <td>79.9</td>\n",
              "      <td>2.7778</td>\n",
              "      <td>5</td>\n",
              "      <td>384</td>\n",
              "      <td>20.9</td>\n",
              "      <td>9.42</td>\n",
              "      <td>27.5</td>\n",
              "    </tr>\n",
              "    <tr>\n",
              "      <th>404</th>\n",
              "      <td>0.25356</td>\n",
              "      <td>0.0</td>\n",
              "      <td>9.90</td>\n",
              "      <td>0</td>\n",
              "      <td>0.544</td>\n",
              "      <td>5.705</td>\n",
              "      <td>77.7</td>\n",
              "      <td>3.9450</td>\n",
              "      <td>4</td>\n",
              "      <td>304</td>\n",
              "      <td>18.4</td>\n",
              "      <td>11.50</td>\n",
              "      <td>16.2</td>\n",
              "    </tr>\n",
              "  </tbody>\n",
              "</table>\n",
              "<p>405 rows × 13 columns</p>\n",
              "</div>"
            ],
            "text/plain": [
              "     tasa_crimen    lz  industrial  rio  ...  impuestos  profesores  status  valor\n",
              "0        0.01096  55.0        2.25    0  ...        300        15.3    8.23   22.0\n",
              "1        0.54050  20.0        3.97    0  ...        264        13.0    3.16   43.5\n",
              "2        0.21409  22.0        5.86    0  ...        330        19.1    3.59   24.8\n",
              "3        0.31827   0.0        9.90    0  ...        304        18.4   18.33   17.8\n",
              "4        0.02055  85.0        0.74    0  ...        313        17.3    5.77   24.7\n",
              "..           ...   ...         ...  ...  ...        ...         ...     ...    ...\n",
              "400      0.07896   0.0       12.83    0  ...        398        18.7    6.78   24.1\n",
              "401      0.09378  12.5        7.87    0  ...        311        15.2   15.71   21.7\n",
              "402      0.25199   0.0       10.59    0  ...        277        18.6   18.06   22.5\n",
              "403      0.14866   0.0        8.56    0  ...        384        20.9    9.42   27.5\n",
              "404      0.25356   0.0        9.90    0  ...        304        18.4   11.50   16.2\n",
              "\n",
              "[405 rows x 13 columns]"
            ]
          },
          "metadata": {
            "tags": []
          },
          "execution_count": 19
        }
      ]
    },
    {
      "cell_type": "markdown",
      "metadata": {
        "id": "JVYCLAyEvLnR"
      },
      "source": [
        "## Modelo de regresión Lineal Univariable"
      ]
    },
    {
      "cell_type": "code",
      "metadata": {
        "id": "gJmLLJaY-L6G"
      },
      "source": [
        "linear_univ_mod = LinearRegression().fit(df_train[['status']], df_train[['valor']])"
      ],
      "execution_count": null,
      "outputs": []
    },
    {
      "cell_type": "code",
      "metadata": {
        "colab": {
          "base_uri": "https://localhost:8080/"
        },
        "id": "FAHcL2Lu-mX-",
        "outputId": "4fa056a5-0fbd-43ef-abe4-98c6d8e6a754"
      },
      "source": [
        "print(\"El intercepto de la regresión es {}. La pendiente de la regresión es {}.\".format(round(linear_univ_mod.intercept_[0], 1), round(linear_univ_mod.coef_[0][0], 1)))"
      ],
      "execution_count": null,
      "outputs": [
        {
          "output_type": "stream",
          "text": [
            "El intercepto de la regresión es 35.1. La pendiente de la regresión es -1.0.\n"
          ],
          "name": "stdout"
        }
      ]
    },
    {
      "cell_type": "code",
      "metadata": {
        "id": "5JVvl8ty-2mX"
      },
      "source": [
        "df_test[['predicted_linear_univ']] = pd.DataFrame(linear_univ_mod.predict(df_test[['status']]))"
      ],
      "execution_count": null,
      "outputs": []
    },
    {
      "cell_type": "code",
      "metadata": {
        "colab": {
          "base_uri": "https://localhost:8080/",
          "height": 295
        },
        "id": "EUtGlMLIAJUh",
        "outputId": "72c0676f-ac12-49da-bea6-fc26c1c8a158"
      },
      "source": [
        "plt.scatter(df_test[['valor']], df_test[['predicted_linear_univ']])\n",
        "plt.plot(df_test[['valor']], df_test[['valor']])\n",
        "plt.title(\"Precio real vs predicho de viviendas\")\n",
        "plt.xlabel(\"Precio real ($)\")\n",
        "plt.ylabel(\"Precio predicho ($)\")\n",
        "plt.show()"
      ],
      "execution_count": null,
      "outputs": [
        {
          "output_type": "display_data",
          "data": {
            "image/png": "[encoded data removed]",
            "text/plain": [
              "<Figure size 432x288 with 1 Axes>"
            ]
          },
          "metadata": {
            "tags": [],
            "needs_background": "light"
          }
        }
      ]
    },
    {
      "cell_type": "code",
      "metadata": {
        "colab": {
          "base_uri": "https://localhost:8080/"
        },
        "id": "LKF-125j_EEW",
        "outputId": "95c15815-5a2d-450b-f418-65c2fa62194d"
      },
      "source": [
        "RMSE = mean_squared_error(df_test[['valor']], df_test[['predicted_linear_univ']], squared=False)\n",
        "MAE = mean_absolute_error(df_test[['valor']], df_test[['predicted_linear_univ']])\n",
        "MAPE = mean_absolute_percentage_error(df_test[['valor']], df_test[['predicted_linear_univ']])\n",
        "print(\"RMSE = {}\".format(round(RMSE, 2)))\n",
        "print(\"MAE = {}\".format(round(MAE, 2)))\n",
        "print(\"MAPE = {}\".format(round(MAPE, 2)))"
      ],
      "execution_count": null,
      "outputs": [
        {
          "output_type": "stream",
          "text": [
            "RMSE = 4.82\n",
            "MAE = 3.75\n",
            "MAPE = 0.28\n"
          ],
          "name": "stdout"
        }
      ]
    },
    {
      "cell_type": "markdown",
      "metadata": {
        "id": "QqOL5b5C_Vu8"
      },
      "source": [
        "## Modelo de regresión Lineal Univariable con Término Cuadrático"
      ]
    },
    {
      "cell_type": "code",
      "metadata": {
        "id": "LR4Rm8dh_IKu"
      },
      "source": [
        "df_train[['status_sq']] = df_train[['status']]*df_train[['status']]\n",
        "linear_univ_mod_quad = LinearRegression().fit(df_train[['status', 'status_sq']], df_train[['valor']])"
      ],
      "execution_count": null,
      "outputs": []
    },
    {
      "cell_type": "code",
      "metadata": {
        "id": "3OriL_hk_d1G"
      },
      "source": [
        "df_test[['status_sq']] = df_test[['status']]*df_test[['status']]\n",
        "df_test[['predicted_linear_univ_sq']] = pd.DataFrame(linear_univ_mod_quad.predict(df_test[['status', 'status_sq']]))"
      ],
      "execution_count": null,
      "outputs": []
    },
    {
      "cell_type": "code",
      "metadata": {
        "colab": {
          "base_uri": "https://localhost:8080/"
        },
        "id": "18mbtqdQ_lme",
        "outputId": "990e1a22-813b-471c-f092-b61a46da8188"
      },
      "source": [
        "RMSE = mean_squared_error(df_test[['valor']], df_test[['predicted_linear_univ_sq']], squared=False)\n",
        "MAE = mean_absolute_error(df_test[['valor']], df_test[['predicted_linear_univ_sq']])\n",
        "MAPE = mean_absolute_percentage_error(df_test[['valor']], df_test[['predicted_linear_univ_sq']])\n",
        "print(\"RMSE = {}\".format(round(RMSE, 2)))\n",
        "print(\"MAE = {}\".format(round(MAE, 2)))\n",
        "print(\"MAPE = {}\".format(round(MAPE, 2)))"
      ],
      "execution_count": null,
      "outputs": [
        {
          "output_type": "stream",
          "text": [
            "RMSE = 4.25\n",
            "MAE = 3.1\n",
            "MAPE = 0.24\n"
          ],
          "name": "stdout"
        }
      ]
    },
    {
      "cell_type": "markdown",
      "metadata": {
        "id": "-YqqjYJ7_ua7"
      },
      "source": [
        "##Modelo de regresión Lineal Multivariable "
      ]
    },
    {
      "cell_type": "code",
      "metadata": {
        "id": "kn_QrxMD_pKN"
      },
      "source": [
        "columnas = ['tasa_crimen', 'lz', 'industrial', 'rio', 'nox', 'cuartos', 'edad', 'distancia', 'autopistas', 'impuestos', 'profesores', 'status']"
      ],
      "execution_count": null,
      "outputs": []
    },
    {
      "cell_type": "code",
      "metadata": {
        "id": "a9pAOR5p_tmO"
      },
      "source": [
        "linear_multi_mod = LinearRegression().fit(df_train[columnas], df_train[['valor']])"
      ],
      "execution_count": null,
      "outputs": []
    },
    {
      "cell_type": "code",
      "metadata": {
        "id": "l0mW3X4L_-fG"
      },
      "source": [
        "df_test[['predicted_linear_multi']] = pd.DataFrame(linear_multi_mod.predict(df_test[columnas]))"
      ],
      "execution_count": null,
      "outputs": []
    },
    {
      "cell_type": "code",
      "metadata": {
        "colab": {
          "base_uri": "https://localhost:8080/",
          "height": 295
        },
        "id": "fetF-SOxABYY",
        "outputId": "24405568-7cf9-4b6b-8f70-fd12eae8b646"
      },
      "source": [
        "plt.scatter(df_test[['valor']], df_test[['predicted_linear_multi']])\n",
        "plt.plot(df_test[['valor']], df_test[['valor']], color = 'red')\n",
        "plt.title(\"Precio real vs predicho de viviendas\")\n",
        "plt.xlabel(\"Precio real ($)\")\n",
        "plt.xlabel(\"Precio predicho ($)\")\n",
        "plt.show()"
      ],
      "execution_count": null,
      "outputs": [
        {
          "output_type": "display_data",
          "data": {
            "image/png": "[encoded data removed]",
            "text/plain": [
              "<Figure size 432x288 with 1 Axes>"
            ]
          },
          "metadata": {
            "tags": [],
            "needs_background": "light"
          }
        }
      ]
    },
    {
      "cell_type": "code",
      "metadata": {
        "colab": {
          "base_uri": "https://localhost:8080/"
        },
        "id": "u_MpLO4FAEvm",
        "outputId": "6ba2196c-df68-4760-c177-9c551ec8fe77"
      },
      "source": [
        "RMSE = mean_squared_error(df_test[['valor']], df_test[['predicted_linear_multi']], squared=False)\n",
        "MAE = mean_absolute_error(df_test[['valor']], df_test[['predicted_linear_multi']])\n",
        "MAPE = mean_absolute_percentage_error(df_test[['valor']], df_test[['predicted_linear_multi']])\n",
        "print(\"RMSE = {}\".format(round(RMSE, 2)))\n",
        "print(\"MAE = {}\".format(round(MAE, 2)))\n",
        "print(\"MAPE = {}\".format(round(MAPE, 2)))"
      ],
      "execution_count": null,
      "outputs": [
        {
          "output_type": "stream",
          "text": [
            "RMSE = 5.54\n",
            "MAE = 4.58\n",
            "MAPE = 0.35\n"
          ],
          "name": "stdout"
        }
      ]
    },
    {
      "cell_type": "markdown",
      "metadata": {
        "id": "zzVx4GDxAZFZ"
      },
      "source": [
        "##Modelo de regresión Lineal Multivariable con término cuadrático"
      ]
    },
    {
      "cell_type": "code",
      "metadata": {
        "id": "h-r1pe5zAPx-"
      },
      "source": [
        "columnas_sq = ['tasa_crimen', 'lz', 'industrial', 'rio', 'nox', 'cuartos', 'edad', 'distancia', 'autopistas', 'impuestos', 'profesores', 'status', 'status_sq']"
      ],
      "execution_count": null,
      "outputs": []
    },
    {
      "cell_type": "code",
      "metadata": {
        "id": "wB9GIZxeAfde"
      },
      "source": [
        "linear_multi_mod_sq = LinearRegression().fit(df_train[columnas_sq], df_train[['valor']])"
      ],
      "execution_count": null,
      "outputs": []
    },
    {
      "cell_type": "code",
      "metadata": {
        "id": "2uybAt20AhL-"
      },
      "source": [
        "df_test[['predicted_linear_multi_sq']] = pd.DataFrame(linear_multi_mod_sq.predict(df_test[columnas_sq]))"
      ],
      "execution_count": null,
      "outputs": []
    },
    {
      "cell_type": "code",
      "metadata": {
        "colab": {
          "base_uri": "https://localhost:8080/"
        },
        "id": "Z2z2-9G8Aqie",
        "outputId": "89eb4fa9-ebce-4ed1-e250-dd6096377650"
      },
      "source": [
        "RMSE = mean_squared_error(df_test[['valor']], df_test[['predicted_linear_multi_sq']], squared=False)\n",
        "MAE = mean_absolute_error(df_test[['valor']], df_test[['predicted_linear_multi_sq']])\n",
        "MAPE = mean_absolute_percentage_error(df_test[['valor']], df_test[['predicted_linear_multi_sq']])\n",
        "print(\"RMSE = {}\".format(round(RMSE, 2)))\n",
        "print(\"MAE = {}\".format(round(MAE, 2)))\n",
        "print(\"MAPE = {}\".format(round(MAPE, 2)))"
      ],
      "execution_count": null,
      "outputs": [
        {
          "output_type": "stream",
          "text": [
            "RMSE = 4.4\n",
            "MAE = 3.59\n",
            "MAPE = 0.26\n"
          ],
          "name": "stdout"
        }
      ]
    },
    {
      "cell_type": "markdown",
      "metadata": {
        "id": "VZ_OC34_AwnI"
      },
      "source": [
        "##Random forests"
      ]
    },
    {
      "cell_type": "code",
      "metadata": {
        "id": "9k1AQSMPAtff"
      },
      "source": [
        "mod_random_for = RandomForestRegressor().fit(df_train[columnas], df_train[['valor']].values.ravel())"
      ],
      "execution_count": null,
      "outputs": []
    },
    {
      "cell_type": "code",
      "metadata": {
        "id": "29yyYLLNA3oX"
      },
      "source": [
        "df_test[['predicted_random_for']] = pd.DataFrame(mod_random_for.predict(df_test[columnas]))"
      ],
      "execution_count": null,
      "outputs": []
    },
    {
      "cell_type": "code",
      "metadata": {
        "colab": {
          "base_uri": "https://localhost:8080/",
          "height": 295
        },
        "id": "oiHHIR5-A_LO",
        "outputId": "2901756c-67fc-4cbd-fdf1-a35aa510ec4c"
      },
      "source": [
        "plt.scatter(df_test[['valor']], df_test[['predicted_random_for']])\n",
        "plt.plot(df_test[['valor']], df_test[['valor']], color = 'red')\n",
        "plt.title(\"Precio real vs predicho de viviendas\")\n",
        "plt.xlabel(\"Precio real ($)\")\n",
        "plt.xlabel(\"Precio predicho ($)\")\n",
        "plt.show()"
      ],
      "execution_count": null,
      "outputs": [
        {
          "output_type": "display_data",
          "data": {
            "image/png": "[encoded data removed]",
            "text/plain": [
              "<Figure size 432x288 with 1 Axes>"
            ]
          },
          "metadata": {
            "tags": [],
            "needs_background": "light"
          }
        }
      ]
    },
    {
      "cell_type": "code",
      "metadata": {
        "colab": {
          "base_uri": "https://localhost:8080/"
        },
        "id": "zfn_aiHTBAiO",
        "outputId": "52a8a4ed-d4a2-4912-ecc0-04ba388c36da"
      },
      "source": [
        "RMSE = mean_squared_error(df_test[['valor']], df_test[['predicted_random_for']], squared=False)\n",
        "MAE = mean_absolute_error(df_test[['valor']], df_test[['predicted_random_for']])\n",
        "MAPE = mean_absolute_percentage_error(df_test[['valor']], df_test[['predicted_random_for']])\n",
        "print(\"RMSE = {}\".format(round(RMSE, 2)))\n",
        "print(\"MAE = {}\".format(round(MAE, 2)))\n",
        "print(\"MAPE = {}\".format(round(MAPE, 2)))"
      ],
      "execution_count": null,
      "outputs": [
        {
          "output_type": "stream",
          "text": [
            "RMSE = 4.33\n",
            "MAE = 3.09\n",
            "MAPE = 0.22\n"
          ],
          "name": "stdout"
        }
      ]
    },
    {
      "cell_type": "code",
      "metadata": {
        "colab": {
          "base_uri": "https://localhost:8080/",
          "height": 421
        },
        "id": "iSmWcx45BB6e",
        "outputId": "b43c1780-4780-4f33-c314-28489159ee42"
      },
      "source": [
        "feature_importance_rf = pd.DataFrame({'variable':columnas, 'FI': mod_random_for.feature_importances_})\n",
        "feature_importance_rf.sort_values('FI', ascending = False)"
      ],
      "execution_count": null,
      "outputs": [
        {
          "output_type": "execute_result",
          "data": {
            "text/html": [
              "<div>\n",
              "<style scoped>\n",
              "    .dataframe tbody tr th:only-of-type {\n",
              "        vertical-align: middle;\n",
              "    }\n",
              "\n",
              "    .dataframe tbody tr th {\n",
              "        vertical-align: top;\n",
              "    }\n",
              "\n",
              "    .dataframe thead th {\n",
              "        text-align: right;\n",
              "    }\n",
              "</style>\n",
              "<table border=\"1\" class=\"dataframe\">\n",
              "  <thead>\n",
              "    <tr style=\"text-align: right;\">\n",
              "      <th></th>\n",
              "      <th>variable</th>\n",
              "      <th>FI</th>\n",
              "    </tr>\n",
              "  </thead>\n",
              "  <tbody>\n",
              "    <tr>\n",
              "      <th>5</th>\n",
              "      <td>cuartos</td>\n",
              "      <td>0.594442</td>\n",
              "    </tr>\n",
              "    <tr>\n",
              "      <th>11</th>\n",
              "      <td>status</td>\n",
              "      <td>0.196861</td>\n",
              "    </tr>\n",
              "    <tr>\n",
              "      <th>7</th>\n",
              "      <td>distancia</td>\n",
              "      <td>0.067714</td>\n",
              "    </tr>\n",
              "    <tr>\n",
              "      <th>0</th>\n",
              "      <td>tasa_crimen</td>\n",
              "      <td>0.060710</td>\n",
              "    </tr>\n",
              "    <tr>\n",
              "      <th>9</th>\n",
              "      <td>impuestos</td>\n",
              "      <td>0.020030</td>\n",
              "    </tr>\n",
              "    <tr>\n",
              "      <th>10</th>\n",
              "      <td>profesores</td>\n",
              "      <td>0.018137</td>\n",
              "    </tr>\n",
              "    <tr>\n",
              "      <th>6</th>\n",
              "      <td>edad</td>\n",
              "      <td>0.015158</td>\n",
              "    </tr>\n",
              "    <tr>\n",
              "      <th>4</th>\n",
              "      <td>nox</td>\n",
              "      <td>0.013438</td>\n",
              "    </tr>\n",
              "    <tr>\n",
              "      <th>2</th>\n",
              "      <td>industrial</td>\n",
              "      <td>0.005502</td>\n",
              "    </tr>\n",
              "    <tr>\n",
              "      <th>8</th>\n",
              "      <td>autopistas</td>\n",
              "      <td>0.005468</td>\n",
              "    </tr>\n",
              "    <tr>\n",
              "      <th>1</th>\n",
              "      <td>lz</td>\n",
              "      <td>0.001369</td>\n",
              "    </tr>\n",
              "    <tr>\n",
              "      <th>3</th>\n",
              "      <td>rio</td>\n",
              "      <td>0.001170</td>\n",
              "    </tr>\n",
              "  </tbody>\n",
              "</table>\n",
              "</div>"
            ],
            "text/plain": [
              "       variable        FI\n",
              "5       cuartos  0.594442\n",
              "11       status  0.196861\n",
              "7     distancia  0.067714\n",
              "0   tasa_crimen  0.060710\n",
              "9     impuestos  0.020030\n",
              "10   profesores  0.018137\n",
              "6          edad  0.015158\n",
              "4           nox  0.013438\n",
              "2    industrial  0.005502\n",
              "8    autopistas  0.005468\n",
              "1            lz  0.001369\n",
              "3           rio  0.001170"
            ]
          },
          "metadata": {
            "tags": []
          },
          "execution_count": 55
        }
      ]
    },
    {
      "cell_type": "markdown",
      "metadata": {
        "id": "GBYTkKi5BKv3"
      },
      "source": [
        "## Random Forest en términos cuadráticos"
      ]
    },
    {
      "cell_type": "code",
      "metadata": {
        "id": "60T31d7KBFGl"
      },
      "source": [
        "columnas_sq = ['tasa_crimen', 'lz', 'industrial', 'rio', 'nox', 'cuartos', 'edad', 'distancia', 'autopistas', 'impuestos', 'profesores', 'status', 'status_sq']\n",
        "mod_random_for_sq = RandomForestRegressor().fit(df_train[columnas_sq], df_train[['valor']].values.ravel())"
      ],
      "execution_count": null,
      "outputs": []
    },
    {
      "cell_type": "code",
      "metadata": {
        "id": "KFl75I6rBY02"
      },
      "source": [
        "df_test[['predicted_random_for_sq']] = pd.DataFrame(mod_random_for_sq.predict(df_test[columnas_sq]))"
      ],
      "execution_count": null,
      "outputs": []
    },
    {
      "cell_type": "code",
      "metadata": {
        "colab": {
          "base_uri": "https://localhost:8080/"
        },
        "id": "jE-td3IXBaam",
        "outputId": "c6b962c0-d5c6-4e87-fb21-9eee36fd53e3"
      },
      "source": [
        "RMSE = mean_squared_error(df_test[['valor']], df_test[['predicted_random_for_sq']], squared=False)\n",
        "MAE = mean_absolute_error(df_test[['valor']], df_test[['predicted_random_for_sq']])\n",
        "MAPE = mean_absolute_percentage_error(df_test[['valor']], df_test[['predicted_random_for_sq']])\n",
        "print(\"RMSE = {}\".format(round(RMSE, 2)))\n",
        "print(\"MAE = {}\".format(round(MAE, 2)))\n",
        "print(\"MAPE = {}\".format(round(MAPE, 2)))"
      ],
      "execution_count": null,
      "outputs": [
        {
          "output_type": "stream",
          "text": [
            "RMSE = 4.36\n",
            "MAE = 3.17\n",
            "MAPE = 0.23\n"
          ],
          "name": "stdout"
        }
      ]
    },
    {
      "cell_type": "code",
      "metadata": {
        "colab": {
          "base_uri": "https://localhost:8080/",
          "height": 452
        },
        "id": "6v1YjSZrBc6G",
        "outputId": "302eab78-2ae7-4f5a-ebcc-1598678bc4cc"
      },
      "source": [
        "feature_importance_rf = pd.DataFrame({'variable':columnas_sq, 'FI': mod_random_for_sq.feature_importances_})\n",
        "feature_importance_rf.sort_values('FI', ascending = False)"
      ],
      "execution_count": null,
      "outputs": [
        {
          "output_type": "execute_result",
          "data": {
            "text/html": [
              "<div>\n",
              "<style scoped>\n",
              "    .dataframe tbody tr th:only-of-type {\n",
              "        vertical-align: middle;\n",
              "    }\n",
              "\n",
              "    .dataframe tbody tr th {\n",
              "        vertical-align: top;\n",
              "    }\n",
              "\n",
              "    .dataframe thead th {\n",
              "        text-align: right;\n",
              "    }\n",
              "</style>\n",
              "<table border=\"1\" class=\"dataframe\">\n",
              "  <thead>\n",
              "    <tr style=\"text-align: right;\">\n",
              "      <th></th>\n",
              "      <th>variable</th>\n",
              "      <th>FI</th>\n",
              "    </tr>\n",
              "  </thead>\n",
              "  <tbody>\n",
              "    <tr>\n",
              "      <th>5</th>\n",
              "      <td>cuartos</td>\n",
              "      <td>0.563715</td>\n",
              "    </tr>\n",
              "    <tr>\n",
              "      <th>12</th>\n",
              "      <td>status_sq</td>\n",
              "      <td>0.117435</td>\n",
              "    </tr>\n",
              "    <tr>\n",
              "      <th>11</th>\n",
              "      <td>status</td>\n",
              "      <td>0.115834</td>\n",
              "    </tr>\n",
              "    <tr>\n",
              "      <th>7</th>\n",
              "      <td>distancia</td>\n",
              "      <td>0.078433</td>\n",
              "    </tr>\n",
              "    <tr>\n",
              "      <th>0</th>\n",
              "      <td>tasa_crimen</td>\n",
              "      <td>0.049843</td>\n",
              "    </tr>\n",
              "    <tr>\n",
              "      <th>10</th>\n",
              "      <td>profesores</td>\n",
              "      <td>0.017877</td>\n",
              "    </tr>\n",
              "    <tr>\n",
              "      <th>9</th>\n",
              "      <td>impuestos</td>\n",
              "      <td>0.017319</td>\n",
              "    </tr>\n",
              "    <tr>\n",
              "      <th>6</th>\n",
              "      <td>edad</td>\n",
              "      <td>0.012653</td>\n",
              "    </tr>\n",
              "    <tr>\n",
              "      <th>4</th>\n",
              "      <td>nox</td>\n",
              "      <td>0.008886</td>\n",
              "    </tr>\n",
              "    <tr>\n",
              "      <th>2</th>\n",
              "      <td>industrial</td>\n",
              "      <td>0.008044</td>\n",
              "    </tr>\n",
              "    <tr>\n",
              "      <th>8</th>\n",
              "      <td>autopistas</td>\n",
              "      <td>0.007973</td>\n",
              "    </tr>\n",
              "    <tr>\n",
              "      <th>1</th>\n",
              "      <td>lz</td>\n",
              "      <td>0.001080</td>\n",
              "    </tr>\n",
              "    <tr>\n",
              "      <th>3</th>\n",
              "      <td>rio</td>\n",
              "      <td>0.000909</td>\n",
              "    </tr>\n",
              "  </tbody>\n",
              "</table>\n",
              "</div>"
            ],
            "text/plain": [
              "       variable        FI\n",
              "5       cuartos  0.563715\n",
              "12    status_sq  0.117435\n",
              "11       status  0.115834\n",
              "7     distancia  0.078433\n",
              "0   tasa_crimen  0.049843\n",
              "10   profesores  0.017877\n",
              "9     impuestos  0.017319\n",
              "6          edad  0.012653\n",
              "4           nox  0.008886\n",
              "2    industrial  0.008044\n",
              "8    autopistas  0.007973\n",
              "1            lz  0.001080\n",
              "3           rio  0.000909"
            ]
          },
          "metadata": {
            "tags": []
          },
          "execution_count": 59
        }
      ]
    },
    {
      "cell_type": "markdown",
      "metadata": {
        "id": "EnIPePBeBgRP"
      },
      "source": [
        "## Random Forest con otros parámetros"
      ]
    },
    {
      "cell_type": "code",
      "metadata": {
        "id": "4ZrHGwr0Belm"
      },
      "source": [
        "mod_random_for_param = RandomForestRegressor(n_estimators = 350).fit(df_train[columnas], df_train[['valor']].values.ravel())"
      ],
      "execution_count": null,
      "outputs": []
    },
    {
      "cell_type": "code",
      "metadata": {
        "id": "DYi1wVtvBnR2"
      },
      "source": [
        "df_test[['predicted_random_for_param']] = pd.DataFrame(mod_random_for_param.predict(df_test[columnas]))"
      ],
      "execution_count": null,
      "outputs": []
    },
    {
      "cell_type": "code",
      "metadata": {
        "colab": {
          "base_uri": "https://localhost:8080/"
        },
        "id": "leivi_s9BpC-",
        "outputId": "4816d37b-0a00-4e81-8fc2-614266d3446f"
      },
      "source": [
        "RMSE = mean_squared_error(df_test[['valor']], df_test[['predicted_random_for_param']], squared=False)\n",
        "MAE = mean_absolute_error(df_test[['valor']], df_test[['predicted_random_for_param']])\n",
        "MAPE = mean_absolute_percentage_error(df_test[['valor']], df_test[['predicted_random_for_param']])\n",
        "print(\"RMSE = {}\".format(round(RMSE, 2)))\n",
        "print(\"MAE = {}\".format(round(MAE, 2)))\n",
        "print(\"MAPE = {}\".format(round(MAPE, 2)))"
      ],
      "execution_count": null,
      "outputs": [
        {
          "output_type": "stream",
          "text": [
            "RMSE = 4.23\n",
            "MAE = 3.08\n",
            "MAPE = 0.23\n"
          ],
          "name": "stdout"
        }
      ]
    },
    {
      "cell_type": "code",
      "metadata": {
        "colab": {
          "base_uri": "https://localhost:8080/",
          "height": 421
        },
        "id": "AGxgR-8BBqZX",
        "outputId": "29a45ffa-3053-416e-e7e3-7215e870a1f4"
      },
      "source": [
        "feature_importance_rf = pd.DataFrame({'variable':columnas, 'FI': mod_random_for_param.feature_importances_})\n",
        "feature_importance_rf.sort_values('FI', ascending = False)"
      ],
      "execution_count": null,
      "outputs": [
        {
          "output_type": "execute_result",
          "data": {
            "text/html": [
              "<div>\n",
              "<style scoped>\n",
              "    .dataframe tbody tr th:only-of-type {\n",
              "        vertical-align: middle;\n",
              "    }\n",
              "\n",
              "    .dataframe tbody tr th {\n",
              "        vertical-align: top;\n",
              "    }\n",
              "\n",
              "    .dataframe thead th {\n",
              "        text-align: right;\n",
              "    }\n",
              "</style>\n",
              "<table border=\"1\" class=\"dataframe\">\n",
              "  <thead>\n",
              "    <tr style=\"text-align: right;\">\n",
              "      <th></th>\n",
              "      <th>variable</th>\n",
              "      <th>FI</th>\n",
              "    </tr>\n",
              "  </thead>\n",
              "  <tbody>\n",
              "    <tr>\n",
              "      <th>5</th>\n",
              "      <td>cuartos</td>\n",
              "      <td>0.593161</td>\n",
              "    </tr>\n",
              "    <tr>\n",
              "      <th>11</th>\n",
              "      <td>status</td>\n",
              "      <td>0.207938</td>\n",
              "    </tr>\n",
              "    <tr>\n",
              "      <th>7</th>\n",
              "      <td>distancia</td>\n",
              "      <td>0.071811</td>\n",
              "    </tr>\n",
              "    <tr>\n",
              "      <th>0</th>\n",
              "      <td>tasa_crimen</td>\n",
              "      <td>0.053093</td>\n",
              "    </tr>\n",
              "    <tr>\n",
              "      <th>10</th>\n",
              "      <td>profesores</td>\n",
              "      <td>0.017630</td>\n",
              "    </tr>\n",
              "    <tr>\n",
              "      <th>9</th>\n",
              "      <td>impuestos</td>\n",
              "      <td>0.016810</td>\n",
              "    </tr>\n",
              "    <tr>\n",
              "      <th>6</th>\n",
              "      <td>edad</td>\n",
              "      <td>0.012838</td>\n",
              "    </tr>\n",
              "    <tr>\n",
              "      <th>4</th>\n",
              "      <td>nox</td>\n",
              "      <td>0.010115</td>\n",
              "    </tr>\n",
              "    <tr>\n",
              "      <th>2</th>\n",
              "      <td>industrial</td>\n",
              "      <td>0.007873</td>\n",
              "    </tr>\n",
              "    <tr>\n",
              "      <th>8</th>\n",
              "      <td>autopistas</td>\n",
              "      <td>0.006292</td>\n",
              "    </tr>\n",
              "    <tr>\n",
              "      <th>3</th>\n",
              "      <td>rio</td>\n",
              "      <td>0.001247</td>\n",
              "    </tr>\n",
              "    <tr>\n",
              "      <th>1</th>\n",
              "      <td>lz</td>\n",
              "      <td>0.001193</td>\n",
              "    </tr>\n",
              "  </tbody>\n",
              "</table>\n",
              "</div>"
            ],
            "text/plain": [
              "       variable        FI\n",
              "5       cuartos  0.593161\n",
              "11       status  0.207938\n",
              "7     distancia  0.071811\n",
              "0   tasa_crimen  0.053093\n",
              "10   profesores  0.017630\n",
              "9     impuestos  0.016810\n",
              "6          edad  0.012838\n",
              "4           nox  0.010115\n",
              "2    industrial  0.007873\n",
              "8    autopistas  0.006292\n",
              "3           rio  0.001247\n",
              "1            lz  0.001193"
            ]
          },
          "metadata": {
            "tags": []
          },
          "execution_count": 63
        }
      ]
    },
    {
      "cell_type": "code",
      "metadata": {
        "id": "Mn9ZIyEVBsdW"
      },
      "source": [
        ""
      ],
      "execution_count": null,
      "outputs": []
    }
  ]
}