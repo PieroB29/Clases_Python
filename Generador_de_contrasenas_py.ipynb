{
  "nbformat": 4,
  "nbformat_minor": 0,
  "metadata": {
    "colab": {
      "name": "Generador_de_contrasenas.py",
      "provenance": [],
      "collapsed_sections": [],
      "authorship_tag": "ABX9TyPQ5zoS5tDCAf2f+bM8C3is",
      "include_colab_link": true
    },
    "kernelspec": {
      "name": "python3",
      "display_name": "Python 3"
    },
    "language_info": {
      "name": "python"
    }
  },
  "cells": [
    {
      "cell_type": "markdown",
      "metadata": {
        "id": "view-in-github",
        "colab_type": "text"
      },
      "source": [
        "<a href=\"https://colab.research.google.com/github/PieroB29/Clases_Python/blob/main/Generador_de_contrasenas_py.ipynb\" target=\"_parent\"><img src=\"https://colab.research.google.com/assets/colab-badge.svg\" alt=\"Open In Colab\"/></a>"
      ]
    },
    {
      "cell_type": "code",
      "metadata": {
        "id": "rgH_uSKNjzLg"
      },
      "source": [
        "import random"
      ],
      "execution_count": null,
      "outputs": []
    },
    {
      "cell_type": "code",
      "metadata": {
        "id": "5kxvgQi4kxMP"
      },
      "source": [
        "def generar_contrasena():\n",
        "    mayusculas = [\"A\", \"B\", \"C\", \"D\", \"E\", \"F\", \"G\", \"H\"]\n",
        "    minusculas = [\"a\", \"b\", \"c\", \"d\", \"e\", \"f\", \"g\", \"h\"]\n",
        "    simbolos = [\"!\", \"#\", \"$\", \"(\", \")\", \"&\", \"/\"]\n",
        "    numeros = [\"1\", \"2\", \"3\", \"4\", \"5\", \"6\", \"7\", \"8\", \"9\", \"0\"]\n",
        "\n",
        "\n",
        "    caracteres = mayusculas + minusculas +simbolos +numeros\n",
        "\n",
        "    contrasena = []\n",
        "\n",
        "    for i in range(15):\n",
        "        caracter_random = random.choice(caracteres)\n",
        "        contrasena.append(caracter_random)\n",
        "\n",
        "    contrasena = \"\".join(contrasena)\n",
        "    return contrasena"
      ],
      "execution_count": null,
      "outputs": []
    },
    {
      "cell_type": "code",
      "metadata": {
        "id": "I7E7tQftlAFG"
      },
      "source": [
        "def run():\n",
        "    contrasena = generar_contrasena()\n",
        "    print(\"Tu nueva contraseña es: \"+ contrasena)"
      ],
      "execution_count": null,
      "outputs": []
    },
    {
      "cell_type": "code",
      "metadata": {
        "colab": {
          "base_uri": "https://localhost:8080/"
        },
        "id": "vrgXpWkflDg-",
        "outputId": "11e58a05-262f-4d64-bcf0-3040bcce4f8b"
      },
      "source": [
        "if __name__ == \"__main__\":\n",
        "    run()"
      ],
      "execution_count": null,
      "outputs": [
        {
          "output_type": "stream",
          "text": [
            "Tu nueva contraseña es: E1Db/$1F/ebb0d2\n"
          ],
          "name": "stdout"
        }
      ]
    },
    {
      "cell_type": "code",
      "metadata": {
        "id": "kjkN_3nFlEmO"
      },
      "source": [
        ""
      ],
      "execution_count": null,
      "outputs": []
    }
  ]
}