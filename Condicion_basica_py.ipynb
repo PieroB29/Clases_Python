{
  "nbformat": 4,
  "nbformat_minor": 0,
  "metadata": {
    "colab": {
      "name": "Condicion_basica.py",
      "provenance": [],
      "collapsed_sections": [],
      "authorship_tag": "ABX9TyMQtMygt0reEVpOc44J2Jfu",
      "include_colab_link": true
    },
    "kernelspec": {
      "name": "python3",
      "display_name": "Python 3"
    },
    "language_info": {
      "name": "python"
    }
  },
  "cells": [
    {
      "cell_type": "markdown",
      "metadata": {
        "id": "view-in-github",
        "colab_type": "text"
      },
      "source": [
        "<a href=\"https://colab.research.google.com/github/PieroB29/Clases_Python/blob/main/Condicion_basica_py.ipynb\" target=\"_parent\"><img src=\"https://colab.research.google.com/assets/colab-badge.svg\" alt=\"Open In Colab\"/></a>"
      ]
    },
    {
      "cell_type": "code",
      "metadata": {
        "colab": {
          "base_uri": "https://localhost:8080/"
        },
        "id": "EdnBv5TynMAf",
        "outputId": "1d437cf3-5ea5-493a-d4f4-bc094558f1ea"
      },
      "source": [
        "#edad = int(input(\"pon tu edad\"))\n",
        "#if edad > 17: \n",
        "#    print(\"Eres mayor de edad\")\n",
        "#else: \n",
        "#    print(\"Eres menor de edad\")\n",
        "numero = int(input(\"Introduce un numero \"))\n",
        "if numero > 5:\n",
        "    print(\"Es mayor a 5\")\n",
        "elif numero == 5:\n",
        "    print(\"Es igual a 5\")\n",
        "else:\n",
        "    print(\"Es menor a 5\")"
      ],
      "execution_count": null,
      "outputs": [
        {
          "output_type": "stream",
          "text": [
            "Introduce un numero 5\n",
            "Es igual a 5\n"
          ],
          "name": "stdout"
        }
      ]
    },
    {
      "cell_type": "code",
      "metadata": {
        "id": "ADZBBcP4nNHY"
      },
      "source": [
        ""
      ],
      "execution_count": null,
      "outputs": []
    }
  ]
}