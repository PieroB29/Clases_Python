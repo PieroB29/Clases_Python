{
  "nbformat": 4,
  "nbformat_minor": 0,
  "metadata": {
    "colab": {
      "name": "Break.py",
      "provenance": [],
      "collapsed_sections": [],
      "authorship_tag": "ABX9TyNOrt3bj2F4uA/RueY1d251",
      "include_colab_link": true
    },
    "kernelspec": {
      "name": "python3",
      "display_name": "Python 3"
    },
    "language_info": {
      "name": "python"
    }
  },
  "cells": [
    {
      "cell_type": "markdown",
      "metadata": {
        "id": "view-in-github",
        "colab_type": "text"
      },
      "source": [
        "<a href=\"https://colab.research.google.com/github/PieroB29/Clases_Python/blob/main/Break_py.ipynb\" target=\"_parent\"><img src=\"https://colab.research.google.com/assets/colab-badge.svg\" alt=\"Open In Colab\"/></a>"
      ]
    },
    {
      "cell_type": "code",
      "metadata": {
        "id": "fRFow8Iumiby"
      },
      "source": [
        "def run():\n",
        "    \n",
        "    texto = input(\"Mete un texto: \")\n",
        "    for letra in texto:\n",
        "        if letra == \"o\":\n",
        "            break\n",
        "        print(letra)"
      ],
      "execution_count": null,
      "outputs": []
    },
    {
      "cell_type": "code",
      "metadata": {
        "colab": {
          "base_uri": "https://localhost:8080/"
        },
        "id": "roBLwXT3mmDI",
        "outputId": "6d356cdf-ec50-42bf-ce3e-5333f297d979"
      },
      "source": [
        "if __name__ == \"__main__\":\n",
        "    run()"
      ],
      "execution_count": null,
      "outputs": [
        {
          "output_type": "stream",
          "text": [
            "Mete un texto: adsdfsfefoeee\n",
            "a\n",
            "d\n",
            "s\n",
            "d\n",
            "f\n",
            "s\n",
            "f\n",
            "e\n",
            "f\n"
          ],
          "name": "stdout"
        }
      ]
    },
    {
      "cell_type": "code",
      "metadata": {
        "id": "gLBssKF2mzqH"
      },
      "source": [
        ""
      ],
      "execution_count": null,
      "outputs": []
    }
  ]
}